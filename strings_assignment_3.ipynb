{
  "cells": [
    {
      "cell_type": "markdown",
      "metadata": {
        "id": "q8RkYTES1QUW"
      },
      "source": [
        "1.Write a Python program to count the number of vowels in a string.\n",
        "\n",
        "input : hasdfgeuionhjl"
      ]
    },
    {
      "cell_type": "code",
      "execution_count": 1,
      "metadata": {
        "id": "UHi6ezjV1X0s"
      },
      "outputs": [
        {
          "name": "stdout",
          "output_type": "stream",
          "text": [
            "The no.of Vowels in the given string is : 5\n"
          ]
        }
      ],
      "source": [
        "input = \"hasdfgeuionhjl\"\n",
        "\n",
        "s = \"aeiou\"\n",
        "\n",
        "c = 0\n",
        "\n",
        "for i in input:\n",
        "    if i in s:\n",
        "        c += 1\n",
        "\n",
        "print(\"The no.of Vowels in the given string is : \"+str(c))"
      ]
    },
    {
      "cell_type": "markdown",
      "metadata": {
        "id": "v7GBEK161QWy"
      },
      "source": [
        "2.Write a Python program to count the occurrences of each word in a sentence.\n",
        "\n",
        "input : hi hello hi and and hi more and more programming"
      ]
    },
    {
      "cell_type": "code",
      "execution_count": 3,
      "metadata": {
        "id": "R-UzDybK1uZo"
      },
      "outputs": [
        {
          "name": "stdout",
          "output_type": "stream",
          "text": [
            "{'hi': 3, 'hello': 1, 'and': 3, 'more': 2, 'programming': 1}\n"
          ]
        }
      ],
      "source": [
        "input = \"hi hello hi and and hi more and more programming\"\n",
        "\n",
        "dic = {}\n",
        "\n",
        "for i in input.split(\" \"):\n",
        "    if dic.get(i) == None:\n",
        "        dic[i] = 1\n",
        "        continue\n",
        "    dic[i] += 1\n",
        "\n",
        "print(dic)"
      ]
    },
    {
      "cell_type": "markdown",
      "metadata": {
        "id": "evCcw-0H1QY9"
      },
      "source": [
        "3.In python how can you differentiate strings and lists. Give atleast 5 different comparisons between them."
      ]
    },
    {
      "cell_type": "code",
      "execution_count": 6,
      "metadata": {},
      "outputs": [
        {
          "name": "stdout",
          "output_type": "stream",
          "text": [
            "1) AbC\n",
            "1) ['A', 2, True]\n",
            "2) ABC\n",
            "2) AbC\n",
            "2) ['A', 2, True]\n",
            "2) ['A', 2, True, 5]\n",
            "3) Ab\n",
            "3) ['A', 2]\n",
            "4) abbc\n",
            "4) [1, 2, 3, 1, 6, 7]\n"
          ]
        }
      ],
      "source": [
        "# 1) A string is a sequence of characters, enclosed in quotes (single, double, or triple).\n",
        "#    A list is an ordered collection of items, which can be of different data types, enclosed in square brackets. \n",
        "\n",
        "s = \"AbC\"\n",
        "l = ['A',2,True]\n",
        "\n",
        "print(\"1) \"+s)\n",
        "print(\"1) \"+str(l))\n",
        "\n",
        "# 2) Strings are immutable, meaning once a string is created, it cannot be changed.\n",
        "#    Lists are mutable, so you can change, add, or remove elements after the list is created.\n",
        "\n",
        "print(\"2) \"+s.upper())\n",
        "print(\"2) \"+s)\n",
        "print(\"2) \"+str(l))\n",
        "l.append(5)\n",
        "print(\"2) \"+str(l))\n",
        "\n",
        "# 3) You can use indexing and slicing with strings to access individual characters or sub-strings.\n",
        "#    Indexing and slicing are also possible with lists to access individual elements or sub-lists.\n",
        "\n",
        "print(\"3) \"+s[0:2])\n",
        "print(\"3) \"+str(l[0:2]))\n",
        "\n",
        "# 4) You can concatenate strings using the + operator.\n",
        "#    You can concatenate lists using the + operator, as well. However, the resulting list will contain all elements of the original lists.\n",
        "\n",
        "a = \"ab\"\n",
        "b = \"bc\"\n",
        "\n",
        "print(\"4) \"+(a+b))\n",
        "\n",
        "l = [1,2,3]\n",
        "x = [1,6,7]\n",
        "\n",
        "x = l+x\n",
        "print(\"4) \"+str(x))\n",
        "\n",
        "# 5) Strings have built-in methods like upper(), lower(), split(), find(), etc.\n",
        "#    Lists have built-in methods like append(), extend(), pop(), sort(), etc.\n",
        "\n",
        "# for this example I already demonstrated them in above examples. Thank you!!!!!!!!!!"
      ]
    },
    {
      "cell_type": "markdown",
      "metadata": {
        "id": "OfiTI0pv1QbU"
      },
      "source": [
        "Answer:"
      ]
    },
    {
      "cell_type": "markdown",
      "metadata": {
        "id": "riR1PWxG1Qdq"
      },
      "source": [
        "4.Write a string for your own of approximately 40 in length and perform any 5 different string operations on that."
      ]
    },
    {
      "cell_type": "code",
      "execution_count": 7,
      "metadata": {
        "id": "3bHyrDS12e8i"
      },
      "outputs": [
        {
          "name": "stdout",
          "output_type": "stream",
          "text": [
            "I AM THOR GOD OF THUNDER AND LOKI IS MY BROTHER FROM ANOTHER MOTHER.\n",
            "Length of the  string :  68\n",
            "I a'm Thor god of Thunder and Loki is my brother from another mother.\n",
            "['I', 'am', 'Thor', 'god', 'of', 'Thunder', 'and', 'Loki', 'is', 'my', 'brother', 'from', 'another', 'mother.']\n",
            "Does the string end with mother?  False\n"
          ]
        }
      ],
      "source": [
        "s = \"I am Thor god of Thunder and Loki is my brother from another mother.\"\n",
        "\n",
        "u_s = s.upper()\n",
        "print(u_s)\n",
        "\n",
        "length_s = len(s)\n",
        "print(\"Length of the  string : \", length_s)\n",
        "\n",
        "new_string = s.replace(\"am\", \"a'm\")\n",
        "print(new_string)\n",
        "\n",
        "a = s.split()\n",
        "print(a)\n",
        "\n",
        "b = s.endswith(\"mother\")\n",
        "print(\"Does the string end with mother? \", b)"
      ]
    },
    {
      "cell_type": "markdown",
      "metadata": {
        "id": "bbUm7VVN1Qfu"
      },
      "source": [
        "5.Explain the concatination in strings with a neat example."
      ]
    },
    {
      "cell_type": "code",
      "execution_count": 8,
      "metadata": {
        "id": "y9292Q452tF0"
      },
      "outputs": [
        {
          "name": "stdout",
          "output_type": "stream",
          "text": [
            "Hello, Arun Sharon!\n"
          ]
        }
      ],
      "source": [
        "# Concatenation in strings means joining two or more strings together to form a single string.\n",
        "\n",
        "f_n = \"Arun\"\n",
        "l_n = \"Sharon\"\n",
        "greeting = \"Hello, \"\n",
        "\n",
        "full_greeting = greeting + f_n + \" \" + l_n + \"!\"\n",
        "print(full_greeting)\n"
      ]
    }
  ],
  "metadata": {
    "colab": {
      "provenance": []
    },
    "kernelspec": {
      "display_name": "Python 3",
      "name": "python3"
    },
    "language_info": {
      "codemirror_mode": {
        "name": "ipython",
        "version": 3
      },
      "file_extension": ".py",
      "mimetype": "text/x-python",
      "name": "python",
      "nbconvert_exporter": "python",
      "pygments_lexer": "ipython3",
      "version": "3.12.2"
    }
  },
  "nbformat": 4,
  "nbformat_minor": 0
}
