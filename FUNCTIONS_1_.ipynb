{
  "cells": [
    {
      "cell_type": "markdown",
      "metadata": {
        "id": "Rg2ZBqGAQwAf"
      },
      "source": [
        "*** USE THE CONCEPT OF FUNCTIONS TO SOLVE THE BELOW PROGRAMMING QUESTIONS ***"
      ]
    },
    {
      "cell_type": "markdown",
      "metadata": {
        "id": "ScHTvbE1QwCo"
      },
      "source": [
        "1) Write a Python function to sum all the numbers in a list.\n",
        "\n",
        "Sample List : (8, 2, 3, 0, 7)\n",
        "\n",
        "Expected Output : 20\n"
      ]
    },
    {
      "cell_type": "code",
      "execution_count": 1,
      "metadata": {
        "id": "aR_k4uReQ8Og"
      },
      "outputs": [
        {
          "name": "stdout",
          "output_type": "stream",
          "text": [
            "The sum of all numbers in the given tuple is : 20\n"
          ]
        }
      ],
      "source": [
        "#WRITE YOUR CODE HERE\n",
        "\n",
        "def findSum(x):\n",
        "    ans = 0\n",
        "    for i in x:\n",
        "        ans += i\n",
        "    return ans\n",
        "\n",
        "num_tuple = (8,2,3,0,7)\n",
        "print(\"The sum of all numbers in the given tuple is :\",findSum(num_tuple))"
      ]
    },
    {
      "cell_type": "markdown",
      "metadata": {
        "id": "dZtcDLjAQwE-"
      },
      "source": [
        "2) Write a Python function to multiply all the numbers in a list.\n",
        "\n",
        "Sample List : (8, 2, 3, -1, 7)\n",
        "\n",
        "Expected Output : -336"
      ]
    },
    {
      "cell_type": "code",
      "execution_count": 2,
      "metadata": {
        "id": "98uwoSPnRHyL"
      },
      "outputs": [
        {
          "name": "stdout",
          "output_type": "stream",
          "text": [
            "The answer after multiplying all the numbers in the given tuple is : -336\n"
          ]
        }
      ],
      "source": [
        "#WRITE YOUR CODE HERE\n",
        "\n",
        "def mul(x):\n",
        "    ans = 1\n",
        "    for i in x:\n",
        "        ans *= i\n",
        "    return ans\n",
        "\n",
        "num_tuple1 = (8,2,3,-1,7)\n",
        "print(\"The answer after multiplying all the numbers in the given tuple is :\",mul(num_tuple1))"
      ]
    },
    {
      "cell_type": "markdown",
      "metadata": {
        "id": "99G7rde1QwHN"
      },
      "source": [
        "3) Write a Python program to reverse a string.\n",
        "\n",
        "Sample String : \"1234abcd\"\n",
        "\n",
        "Expected Output : \"dcba4321\""
      ]
    },
    {
      "cell_type": "code",
      "execution_count": 6,
      "metadata": {
        "id": "6qmLELFCRQAD"
      },
      "outputs": [
        {
          "name": "stdout",
          "output_type": "stream",
          "text": [
            "The reversed version of given string is : dcba4321\n"
          ]
        }
      ],
      "source": [
        "#WRITE YOUR CODE HERE\n",
        "def reverse(s):\n",
        "    ans = \"\"\n",
        "    for i in range(len(s)-1,-1,-1):\n",
        "        ans += s[i]\n",
        "    return ans\n",
        "\n",
        "s = \"1234abcd\"\n",
        "print(\"The reversed version of given string is :\",reverse(s))"
      ]
    },
    {
      "cell_type": "markdown",
      "metadata": {
        "id": "_XE8as7eQwJn"
      },
      "source": [
        "4) Write a Python function to calculate the factorial of a number (a non-negative integer). The function accepts the number as an argument."
      ]
    },
    {
      "cell_type": "code",
      "execution_count": 9,
      "metadata": {
        "id": "Di5n5kNARZdn"
      },
      "outputs": [
        {
          "name": "stdout",
          "output_type": "stream",
          "text": [
            "The factorial of 5 is : 120\n"
          ]
        }
      ],
      "source": [
        "#WRITE YOUR CODE HERE\n",
        "def fact(x):\n",
        "    ans = 1\n",
        "    for i in range(1,x+1):\n",
        "        ans *= i\n",
        "    return ans\n",
        "\n",
        "x = int(input(\"Enter an input value\"))\n",
        "print(\"The factorial of\",x,\"is :\",fact(x))"
      ]
    },
    {
      "cell_type": "markdown",
      "metadata": {
        "id": "I2zyMS7XQwLx"
      },
      "source": [
        "5) Write a Python function to check whether a number falls within a given range."
      ]
    },
    {
      "cell_type": "code",
      "execution_count": 12,
      "metadata": {
        "id": "rouydHDQRgcc"
      },
      "outputs": [
        {
          "name": "stdout",
          "output_type": "stream",
          "text": [
            "The number 20 doesn't falls in the range of 11 and 19\n"
          ]
        }
      ],
      "source": [
        "#WRITE YOUR CODE HERE\n",
        "def check(x,i1,i2):\n",
        "    if(x>=i1 and x<=i2):\n",
        "        return True\n",
        "    else:\n",
        "        return False\n",
        "\n",
        "i1,i2 = [int(i) for i in input().split()]\n",
        "x = int(input(\"Enter the number\"))\n",
        "\n",
        "if(check(x,i1,i2)):\n",
        "    print(\"The number\",x,\"falls in the range of\",i1,\"and\",i2)\n",
        "else:\n",
        "    print(\"The number\",x,\"doesn't falls in the range of\",i1,\"and\",i2)"
      ]
    }
  ],
  "metadata": {
    "colab": {
      "provenance": []
    },
    "kernelspec": {
      "display_name": "Python 3",
      "name": "python3"
    },
    "language_info": {
      "codemirror_mode": {
        "name": "ipython",
        "version": 3
      },
      "file_extension": ".py",
      "mimetype": "text/x-python",
      "name": "python",
      "nbconvert_exporter": "python",
      "pygments_lexer": "ipython3",
      "version": "3.12.2"
    }
  },
  "nbformat": 4,
  "nbformat_minor": 0
}
