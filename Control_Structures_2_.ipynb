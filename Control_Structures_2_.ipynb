{
  "cells": [
    {
      "cell_type": "markdown",
      "metadata": {
        "id": "LntIlHO5OfPf"
      },
      "source": [
        "*** USE THE CONCEPT OF LOOPS TO SOLVE THE BELOW PROGRAMS***"
      ]
    },
    {
      "cell_type": "markdown",
      "metadata": {
        "id": "vxHfbNtoOfRV"
      },
      "source": [
        "1) Python program to count the total number of digits in a number.\n",
        "\n",
        "TAKE THE INPUT NUMBER : 123456\n",
        "\n",
        "\n",
        "\n"
      ]
    },
    {
      "cell_type": "code",
      "execution_count": 7,
      "metadata": {
        "id": "_PKg5umLO2-q"
      },
      "outputs": [
        {
          "name": "stdout",
          "output_type": "stream",
          "text": [
            "The no.of digits 123456  has is : 6\n",
            "The no.of digits 123456  has is : 6  this method uses string length function\n"
          ]
        }
      ],
      "source": [
        "#wRITE YOUR CODE HERE\n",
        "x = int(input(\"Enter the input number : \"))\n",
        "c = 0\n",
        "num = x\n",
        "while num > 0 :\n",
        "    c += 1\n",
        "    num //= 10\n",
        "print(\"The no.of digits\",x,\" has is :\",c)\n",
        "print(\"The no.of digits\",x,\" has is :\",len(str(x)),\" this method uses string length function\")"
      ]
    },
    {
      "cell_type": "markdown",
      "metadata": {
        "id": "bXf8Z8feOfTn"
      },
      "source": [
        "2) Python program to count the number of even and odd numbers from a series of numbers.\n",
        "\n",
        "num_list = [1,3,5,6,99,134,55]"
      ]
    },
    {
      "cell_type": "code",
      "execution_count": 8,
      "metadata": {
        "id": "QzZjjwRCPIip"
      },
      "outputs": [
        {
          "name": "stdout",
          "output_type": "stream",
          "text": [
            "The no.of even numbers in the series are : 2\n",
            "The no.of odd numbers in the series are : 5\n"
          ]
        }
      ],
      "source": [
        "#WRITE YOUR CODE HERE\n",
        "num_list = [1,3,5,6,99,134,55]\n",
        "even = 0\n",
        "for i in num_list:\n",
        "    if i % 2 == 0:\n",
        "        even += 1\n",
        "print(\"The no.of even numbers in the series are :\",even)\n",
        "print(\"The no.of odd numbers in the series are :\",len(num_list)-even)"
      ]
    },
    {
      "cell_type": "markdown",
      "metadata": {
        "id": "Ae6CdE7hOfWZ"
      },
      "source": [
        "3) Python program to get the Fibonacci series between 0 to 50."
      ]
    },
    {
      "cell_type": "code",
      "execution_count": 10,
      "metadata": {
        "id": "_IIZYCLPPTwI"
      },
      "outputs": [
        {
          "name": "stdout",
          "output_type": "stream",
          "text": [
            "0 1 1 2 3 5 8 13 21 34 \n"
          ]
        }
      ],
      "source": [
        "#WRITE YOUR CODE HERE\n",
        "f1 = 0\n",
        "f2 = 1\n",
        "f3 = 1\n",
        "print(f1,end=\" \")\n",
        "while f3<50:\n",
        "    print(f3,end=\" \")\n",
        "    f3 = f1 + f2\n",
        "    f1 = f2\n",
        "    f2 = f3\n",
        "print()"
      ]
    },
    {
      "cell_type": "markdown",
      "metadata": {
        "id": "VYbquVMROfZz"
      },
      "source": [
        "4) Python program that accepts a string and calculates the number of digits and letters.\n",
        "\n",
        "Input\n",
        "\n",
        "WEBBLINDERS1234"
      ]
    },
    {
      "cell_type": "code",
      "execution_count": 11,
      "metadata": {
        "id": "iGYeja7XPop3"
      },
      "outputs": [
        {
          "name": "stdout",
          "output_type": "stream",
          "text": [
            "The no.of digits in the given word are : 4\n",
            "The no.of letters in the given word are : 11\n"
          ]
        }
      ],
      "source": [
        "#WRITE YOUR CODE HERE\n",
        "s  = \"WEBBLINDERS1234\"\n",
        "num = \"0123456789\"\n",
        "digits = 0\n",
        "for i in s:\n",
        "    if i in num:\n",
        "        digits += 1\n",
        "print(\"The no.of digits in the given word are :\",digits)\n",
        "print(\"The no.of letters in the given word are :\",len(s)-digits)"
      ]
    },
    {
      "cell_type": "markdown",
      "metadata": {
        "id": "RiVenPeDPqs_"
      },
      "source": [
        "5) Python program to display all numbers within a range except the prime numbers.\n",
        "\n",
        "INPUT RANGE : 30 TO 80"
      ]
    },
    {
      "cell_type": "code",
      "execution_count": 16,
      "metadata": {
        "id": "UTm21ayAPX02"
      },
      "outputs": [
        {
          "name": "stdout",
          "output_type": "stream",
          "text": [
            "30 32 33 34 35 36 38 39 40 42 44 45 46 48 49 50 51 52 54 55 56 57 58 60 62 63 64 65 66 68 69 70 72 74 75 76 77 78 80 "
          ]
        }
      ],
      "source": [
        "#WRITE YOUR CODE HERE\n",
        "def isPrime(x):\n",
        "    for i in range(2,(x//2)+1):\n",
        "        if x % i == 0:\n",
        "            return False\n",
        "    return True\n",
        "\n",
        "for i in range(30,81):\n",
        "    if isPrime(i) == False:\n",
        "        print(i,end=\" \")"
      ]
    }
  ],
  "metadata": {
    "colab": {
      "provenance": []
    },
    "kernelspec": {
      "display_name": "Python 3",
      "name": "python3"
    },
    "language_info": {
      "codemirror_mode": {
        "name": "ipython",
        "version": 3
      },
      "file_extension": ".py",
      "mimetype": "text/x-python",
      "name": "python",
      "nbconvert_exporter": "python",
      "pygments_lexer": "ipython3",
      "version": "3.12.2"
    }
  },
  "nbformat": 4,
  "nbformat_minor": 0
}
