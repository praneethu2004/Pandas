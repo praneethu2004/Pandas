{
  "cells": [
    {
      "cell_type": "markdown",
      "metadata": {
        "id": "-j3jwvf4Nex8"
      },
      "source": [
        "** USE THE CONCEPT OF LOOP TO SOLVE TEHE BELOW QUIRIES **"
      ]
    },
    {
      "cell_type": "markdown",
      "metadata": {
        "id": "e5fJbKobMfrV"
      },
      "source": [
        "  1) Print the first 10 natural numbers using for loop."
      ]
    },
    {
      "cell_type": "code",
      "execution_count": 1,
      "metadata": {
        "id": "dvVRbCfHMiM2"
      },
      "outputs": [
        {
          "name": "stdout",
          "output_type": "stream",
          "text": [
            "1 2 3 4 5 6 7 8 9 10 \n"
          ]
        }
      ],
      "source": [
        "#Write your code here\n",
        "for i in range(1,11):\n",
        "    print(i,end=\" \")\n",
        "print()"
      ]
    },
    {
      "cell_type": "markdown",
      "metadata": {
        "id": "z6Z_rllrM3EW"
      },
      "source": [
        "2) Python program to print all the even numbers within the given range.\n",
        "\n",
        "Range = 0 to 100"
      ]
    },
    {
      "cell_type": "code",
      "execution_count": 5,
      "metadata": {
        "id": "iu86kKj8MwAr"
      },
      "outputs": [
        {
          "name": "stdout",
          "output_type": "stream",
          "text": [
            "0 2 4 6 8 10 12 14 16 18 20 22 24 26 28 30 32 34 36 38 40 42 44 46 48 50 52 54 56 58 60 62 64 66 68 70 72 74 76 78 80 82 84 86 88 90 92 94 96 98 100 INCLUSIVE\n",
            "0 2 4 6 8 10 12 14 16 18 20 22 24 26 28 30 32 34 36 38 40 42 44 46 48 50 52 54 56 58 60 62 64 66 68 70 72 74 76 78 80 82 84 86 88 90 92 94 96 98 EXCLUSIVE RIGHT END\n"
          ]
        }
      ],
      "source": [
        "#Write your code Here\n",
        "for i in range(0,101,2): # inclusive intervals\n",
        "    print(i,end=\" \")\n",
        "print(\"INCLUSIVE\")\n",
        "\n",
        "for i in range(0,100,2): # exclusive interval at right side that is 100\n",
        "    print(i,end=\" \")\n",
        "print(\"EXCLUSIVE RIGHT END\") "
      ]
    },
    {
      "cell_type": "markdown",
      "metadata": {
        "id": "8d-LECSINC6s"
      },
      "source": [
        "3) Python program to calculate the sum of all numbers from 1 to a given number.\n",
        "\n",
        "Given Range = 15"
      ]
    },
    {
      "cell_type": "code",
      "execution_count": 9,
      "metadata": {
        "id": "bBd7nbLLNSoA"
      },
      "outputs": [
        {
          "name": "stdout",
          "output_type": "stream",
          "text": [
            "sum of 1 to 15 is : 120\n"
          ]
        }
      ],
      "source": [
        "#Write your Code Here\n",
        "ans = 0\n",
        "for i in range(1,16):\n",
        "    ans += i\n",
        "print(\"sum of 1 to 15 is :\",ans)"
      ]
    },
    {
      "cell_type": "markdown",
      "metadata": {
        "id": "nKJA-USXNRsk"
      },
      "source": [
        "4) Python program to calculate the sum of all the odd numbers within the given range.\n",
        "\n",
        "Given Range = 10"
      ]
    },
    {
      "cell_type": "code",
      "execution_count": 10,
      "metadata": {
        "id": "Q520Z2gXNwMV"
      },
      "outputs": [
        {
          "name": "stdout",
          "output_type": "stream",
          "text": [
            "1 3 5 7 9 \n"
          ]
        }
      ],
      "source": [
        "# Write your code Here\n",
        "for i in range(1,10,2):\n",
        "    print(i,end=\" \")\n",
        "print()"
      ]
    },
    {
      "cell_type": "markdown",
      "metadata": {
        "id": "uTwmyMFiNEM8"
      },
      "source": [
        "5) Python program to print a multiplication table of a given number\n",
        "\n",
        "given number = 5"
      ]
    },
    {
      "cell_type": "code",
      "execution_count": 12,
      "metadata": {
        "id": "ZlLy8g2kN6F7"
      },
      "outputs": [
        {
          "name": "stdout",
          "output_type": "stream",
          "text": [
            "5  *  1  =  5\n",
            "5  *  2  =  10\n",
            "5  *  3  =  15\n",
            "5  *  4  =  20\n",
            "5  *  5  =  25\n",
            "5  *  6  =  30\n",
            "5  *  7  =  35\n",
            "5  *  8  =  40\n",
            "5  *  9  =  45\n",
            "5  *  10  =  50\n"
          ]
        }
      ],
      "source": [
        "# Write your code here\n",
        "num = 5\n",
        "for i in range(1,11):\n",
        "    print(num,\" * \",i,\" = \",(num*i))\n"
      ]
    }
  ],
  "metadata": {
    "colab": {
      "provenance": []
    },
    "kernelspec": {
      "display_name": "Python 3",
      "name": "python3"
    },
    "language_info": {
      "codemirror_mode": {
        "name": "ipython",
        "version": 3
      },
      "file_extension": ".py",
      "mimetype": "text/x-python",
      "name": "python",
      "nbconvert_exporter": "python",
      "pygments_lexer": "ipython3",
      "version": "3.12.2"
    }
  },
  "nbformat": 4,
  "nbformat_minor": 0
}
