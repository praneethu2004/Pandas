{
  "cells": [
    {
      "cell_type": "markdown",
      "metadata": {
        "id": "EPGLodluvWuN"
      },
      "source": [
        "## Strings Assignment 2"
      ]
    },
    {
      "cell_type": "markdown",
      "metadata": {
        "id": "ddM5gMtivkoi"
      },
      "source": [
        "1.Write a Python program to reverse a string.\n",
        "\n",
        "input = hellohowareyoudoingandhowisyourhealth"
      ]
    },
    {
      "cell_type": "code",
      "execution_count": 3,
      "metadata": {
        "id": "RnP576ZZvtLH"
      },
      "outputs": [
        {
          "name": "stdout",
          "output_type": "stream",
          "text": [
            "htlaehruoysiwohdnagnioduoyerawoholleh\n"
          ]
        }
      ],
      "source": [
        "input = \"hellohowareyoudoingandhowisyourhealth\"\n",
        "\n",
        "for i in range(len(input)-1, -1, -1):\n",
        "    print(input[i],end=\"\")\n",
        "print()"
      ]
    },
    {
      "cell_type": "markdown",
      "metadata": {
        "id": "jEVFoo3evnhr"
      },
      "source": [
        "2.Write a Python program to capitalize the first letter of each word in a sentence.\n",
        "\n",
        "input : hello welcome to internship"
      ]
    },
    {
      "cell_type": "code",
      "execution_count": 17,
      "metadata": {
        "id": "CTP3QwiGwT93"
      },
      "outputs": [
        {
          "name": "stdout",
          "output_type": "stream",
          "text": [
            "Hello Welcome To Internship \n"
          ]
        }
      ],
      "source": [
        "input = \"hello welcome to internship\"\n",
        "\n",
        "for i in input.split(\" \"):\n",
        "    i = i[0].upper() + i[1:]\n",
        "    print(i, end=\" \")\n",
        "print()"
      ]
    },
    {
      "cell_type": "markdown",
      "metadata": {
        "id": "LiGvyCoVvnyC"
      },
      "source": [
        "3.Write a Python program to find the longest word in a sentence.\n",
        "\n",
        "input : \"he is very good at painting and paint good sketches\""
      ]
    },
    {
      "cell_type": "code",
      "execution_count": 20,
      "metadata": {
        "id": "clATuC3cwwPI"
      },
      "outputs": [
        {
          "name": "stdout",
          "output_type": "stream",
          "text": [
            "The longest word in the sentence is : painting\n",
            "with length : 8\n"
          ]
        }
      ],
      "source": [
        "input = \"he is very good at painting and paint good sketches\"\n",
        "\n",
        "max = \"\"\n",
        "maxLen = 0\n",
        "\n",
        "for i in input.split(\" \"):\n",
        "    if maxLen < len(i):\n",
        "        max = i\n",
        "        maxLen = len(max)\n",
        "print(\"The longest word in the sentence is : \"+max)\n",
        "print(\"with length : \"+str(maxLen))"
      ]
    },
    {
      "cell_type": "markdown",
      "metadata": {
        "id": "-QhCplQjvn0w"
      },
      "source": [
        "4.Write a Python program to find the length of the last word in a sentence.\n",
        "\n",
        "input : this is the most beautiful beach I ever visited"
      ]
    },
    {
      "cell_type": "code",
      "execution_count": 22,
      "metadata": {
        "id": "QwzbahlkxGZ-"
      },
      "outputs": [
        {
          "name": "stdout",
          "output_type": "stream",
          "text": [
            "The length of the last word in the String is : 7\n"
          ]
        }
      ],
      "source": [
        "input = \"this is the most beautiful beach I ever visited\"\n",
        "\n",
        "s = \"\"\n",
        "\n",
        "for i in input.split(\" \"):\n",
        "    s = i\n",
        "print(\"The length of the last word in the String is : \"+str(len(s)))"
      ]
    },
    {
      "cell_type": "markdown",
      "metadata": {
        "id": "cZiXxZhsvn6q"
      },
      "source": [
        "5.Write a Python program to find the second most frequent character in a string.\n",
        "\n",
        "input: the hospital is very big and this hospital has so many doctors"
      ]
    },
    {
      "cell_type": "code",
      "execution_count": 36,
      "metadata": {
        "id": "EnHquuoCxi7F"
      },
      "outputs": [
        {
          "name": "stdout",
          "output_type": "stream",
          "text": [
            "s is the second most frequent Character in the string with frequency equal to 7\n"
          ]
        }
      ],
      "source": [
        "input = \"the hospital is very big and this hospital has so many doctors\"\n",
        "\n",
        "list = {}\n",
        "\n",
        "for i in input:\n",
        "    if list.get(i) == None:\n",
        "        list[i] = 1\n",
        "        continue\n",
        "    else:\n",
        "        list[i] += 1\n",
        "\n",
        "max = 0\n",
        "charMax = ''\n",
        "secMax = 0\n",
        "secCharMax = ''\n",
        "\n",
        "for i in list.keys():\n",
        "    if list.get(i) < max and list.get(i) > secMax:\n",
        "        secMax = list.get(i)\n",
        "        secCharMax = i\n",
        "        continue\n",
        "    elif list.get(i) >= max:\n",
        "        secMax = max\n",
        "        secCharMax = charMax\n",
        "        max = list.get(i)\n",
        "        charMax = i\n",
        "# print(list)\n",
        "print(secCharMax+\" is the second most frequent Character in the string with frequency equal to \"+str(secMax))"
      ]
    },
    {
      "cell_type": "code",
      "execution_count": null,
      "metadata": {},
      "outputs": [],
      "source": []
    }
  ],
  "metadata": {
    "colab": {
      "provenance": [],
      "toc_visible": true
    },
    "kernelspec": {
      "display_name": "Python 3",
      "name": "python3"
    },
    "language_info": {
      "codemirror_mode": {
        "name": "ipython",
        "version": 3
      },
      "file_extension": ".py",
      "mimetype": "text/x-python",
      "name": "python",
      "nbconvert_exporter": "python",
      "pygments_lexer": "ipython3",
      "version": "3.12.2"
    }
  },
  "nbformat": 4,
  "nbformat_minor": 0
}
